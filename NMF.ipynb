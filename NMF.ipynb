{
 "cells": [
  {
   "cell_type": "code",
   "execution_count": 4,
   "metadata": {
    "scrolled": true
   },
   "outputs": [
    {
     "name": "stdout",
     "output_type": "stream",
     "text": [
      "Extracting tf-idf features for NMF...\n",
      "Topic #0: genotype cell age disease type stage species sample organism model\n",
      "Topic #1: sample species type age stage organism model genotype disease cell\n",
      "Topic #2: age model stage sample type species organism genotype disease cell\n",
      "Topic #3: cell type stage model organism species sample genotype disease age\n",
      "Topic #4: disease stage model type species sample organism genotype cell age\n",
      "\n"
     ]
    }
   ],
   "source": [
    "get_ipython().magic('matplotlib inline')\n",
    "\n",
    "from __future__ import print_function\n",
    "from time import time\n",
    "import os\n",
    "import logging\n",
    "import csv\n",
    "import numpy as np\n",
    "import pandas as pd\n",
    "\n",
    "from sklearn.feature_extraction.text import TfidfVectorizer, CountVectorizer\n",
    "from sklearn.decomposition import NMF, LatentDirichletAllocation\n",
    "\n",
    "import numpy as np\n",
    "\n",
    "n_top_words=30\n",
    "def print_top_words(model, feature_names, n_top_words):\n",
    "    for topic_idx, topic in enumerate(model.components_):\n",
    "        message = \"Topic #%d: \" % topic_idx\n",
    "        message += \" \".join([feature_names[i]\n",
    "                             for i in topic.argsort()[:-n_top_words - 1:-1]])\n",
    "        print(message)\n",
    "    print()\n",
    "\n",
    "csv_file_object = csv.reader(open('ds1.csv', 'r'))\n",
    "\n",
    "data = []\n",
    "for row in csv_file_object:\n",
    "    data.append(row)\n",
    "data = np.array(data)\n",
    "\n",
    "print(\"Extracting tf-idf features for NMF...\")\n",
    "tfidf_vectorizer = TfidfVectorizer(max_df=0.8, min_df=2,\n",
    "                                   max_features=10,\n",
    "                                   stop_words='english')\n",
    "\n",
    "tfidf = tfidf_vectorizer.fit_transform(data.ravel())\n",
    "\n",
    "model = NMF(n_components=5, init='random', random_state=0)\n",
    "W = model.fit_transform(tfidf)\n",
    "H = model.components_\n",
    "tfidf_feature_names = tfidf_vectorizer.get_feature_names()\n",
    "print_top_words(model, tfidf_feature_names, n_top_words)"
   ]
  },
  {
   "cell_type": "code",
   "execution_count": null,
   "metadata": {
    "collapsed": true
   },
   "outputs": [],
   "source": []
  },
  {
   "cell_type": "code",
   "execution_count": null,
   "metadata": {
    "collapsed": true
   },
   "outputs": [],
   "source": []
  }
 ],
 "metadata": {
  "kernelspec": {
   "display_name": "Python 3",
   "language": "python",
   "name": "python3"
  },
  "language_info": {
   "codemirror_mode": {
    "name": "ipython",
    "version": 3
   },
   "file_extension": ".py",
   "mimetype": "text/x-python",
   "name": "python",
   "nbconvert_exporter": "python",
   "pygments_lexer": "ipython3",
   "version": "3.6.1"
  }
 },
 "nbformat": 4,
 "nbformat_minor": 2
}
