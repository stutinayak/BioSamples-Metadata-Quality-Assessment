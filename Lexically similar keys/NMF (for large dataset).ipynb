{
 "cells": [
  {
   "cell_type": "code",
   "execution_count": 3,
   "metadata": {
    "scrolled": true
   },
   "outputs": [
    {
     "name": "stdout",
     "output_type": "stream",
     "text": [
      "Extracting tf-idf features for NMF...\n",
      "Topic #0: genotype host cell type survival status state stage species sample organism model free disease age\n",
      "Topic #1: cell type host free survival status state stage species sample organism model genotype disease age\n",
      "Topic #2: disease state survival free type status stage species sample organism model host genotype cell age\n",
      "Topic #3: sample type free survival age status state stage species organism model host genotype disease cell\n",
      "Topic #4: model cell disease sample type survival status state stage species organism host genotype free age\n",
      "Topic #5: stage cell host disease type survival status state species sample organism model genotype free age\n",
      "Topic #6: status host disease state type survival stage species sample organism model genotype free cell age\n",
      "Topic #7: age disease genotype model sample type survival status state stage species organism host free cell\n",
      "Topic #8: organism host type state survival status stage species sample model genotype free disease cell age\n",
      "Topic #9: species host type state survival status stage sample organism model genotype free disease cell age\n",
      "\n"
     ]
    }
   ],
   "source": [
    "get_ipython().magic('matplotlib inline')\n",
    "\n",
    "from __future__ import print_function\n",
    "from time import time\n",
    "import os\n",
    "import logging\n",
    "import csv\n",
    "import numpy as np\n",
    "import pandas as pd\n",
    "from nltk import word_tokenize\n",
    "from nltk.corpus import stopwords\n",
    "\n",
    "from sklearn.feature_extraction.text import TfidfVectorizer, CountVectorizer\n",
    "from sklearn.decomposition import NMF, LatentDirichletAllocation\n",
    "\n",
    "import numpy as np\n",
    "\n",
    "n_top_words=30\n",
    "def print_top_words(model, feature_names, n_top_words):\n",
    "    for topic_idx, topic in enumerate(model.components_):\n",
    "        message = \"Topic #%d: \" % topic_idx\n",
    "        message += \" \".join([feature_names[i]\n",
    "                             for i in topic.argsort()[:-n_top_words - 1:-1]])\n",
    "        print(message)\n",
    "    print()\n",
    "\n",
    "csv_file_object = csv.reader(open('ds1.csv', 'r'))\n",
    "\n",
    "data = []\n",
    "for row in csv_file_object:\n",
    "    data.append(row)\n",
    "data = np.array(data)\n",
    "#data1 = [word for word in data if word not in stopwords.words('english')]\n",
    "\n",
    "print(\"Extracting tf-idf features for NMF...\")\n",
    "tfidf_vectorizer = TfidfVectorizer(max_df=0.95, min_df=2,\n",
    "                                   max_features=15,\n",
    "                                   stop_words='english')\n",
    "\n",
    "tfidf = tfidf_vectorizer.fit_transform(data.ravel())\n",
    "\n",
    "\n",
    "\n",
    "model = NMF(n_components=10, init='random', random_state=0)\n",
    "W = model.fit_transform(tfidf)\n",
    "H = model.components_\n",
    "tfidf_feature_names = tfidf_vectorizer.get_feature_names()\n",
    "print_top_words(model, tfidf_feature_names, n_top_words)"
   ]
  },
  {
   "cell_type": "code",
   "execution_count": null,
   "metadata": {
    "collapsed": true
   },
   "outputs": [],
   "source": []
  },
  {
   "cell_type": "code",
   "execution_count": null,
   "metadata": {
    "collapsed": true
   },
   "outputs": [],
   "source": []
  },
  {
   "cell_type": "code",
   "execution_count": null,
   "metadata": {
    "collapsed": true
   },
   "outputs": [],
   "source": []
  }
 ],
 "metadata": {
  "kernelspec": {
   "display_name": "Python 3",
   "language": "python",
   "name": "python3"
  },
  "language_info": {
   "codemirror_mode": {
    "name": "ipython",
    "version": 3
   },
   "file_extension": ".py",
   "mimetype": "text/x-python",
   "name": "python",
   "nbconvert_exporter": "python",
   "pygments_lexer": "ipython3",
   "version": "3.6.1"
  }
 },
 "nbformat": 4,
 "nbformat_minor": 2
}
