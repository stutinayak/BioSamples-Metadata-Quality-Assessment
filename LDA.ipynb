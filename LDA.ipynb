{
 "cells": [
  {
   "cell_type": "code",
   "execution_count": 2,
   "metadata": {},
   "outputs": [
    {
     "name": "stdout",
     "output_type": "stream",
     "text": [
      "Extracting tf features for LDA...\n",
      "done in 0.002s.\n",
      "\n",
      "Topics in LDA model:\n",
      "Topic #0: disease plant 12q13 control survival free mutant condition ph treatment2_in\n",
      "Topic #1: overall length serum units sex genotyped organ infection time_after_resection mutant\n",
      "Topic #2: strain genotype gender status rb1 elapsed vaccine derived ecotype isolate\n",
      "Topic #3: tissue induction os sarcoma time newborn thyroid sector cell mouse\n",
      "Topic #4: sample drug human pos doubling harvest 30 ph background variaton\n",
      "Topic #5: mc3 incubation recipient source type treatment2_in treatment strain model condition\n",
      "Topic #6: genotype ex subject variaton time_after_resection varitaion maternal 12q13 serum sample\n",
      "Topic #7: cell pancreatic mouse mc6 connective meibomian infection disease ecotype variaton\n",
      "\n",
      "done in 0.726s.\n"
     ]
    }
   ],
   "source": [
    "get_ipython().magic('matplotlib inline')\n",
    "\n",
    "from __future__ import print_function\n",
    "from time import time\n",
    "import os\n",
    "import logging\n",
    "import csv\n",
    "import numpy as np\n",
    "import pandas as pd\n",
    "\n",
    "from sklearn.feature_extraction.text import TfidfVectorizer, CountVectorizer\n",
    "from sklearn.decomposition import NMF, LatentDirichletAllocation\n",
    "\n",
    "n_top_words=10\n",
    "def print_top_words(model, feature_names, n_top_words):\n",
    "    for topic_idx, topic in enumerate(model.components_):\n",
    "        message = \"Topic #%d: \" % topic_idx\n",
    "        message += \" \".join([feature_names[i]\n",
    "                             for i in topic.argsort()[:-n_top_words - 1:-1]])\n",
    "        print(message)\n",
    "    print()\n",
    "\n",
    "csv_file_object = csv.reader(open('Output.csv', 'r'))\n",
    "\n",
    "data = []\n",
    "for row in csv_file_object:\n",
    "    data.append(row)\n",
    "data = np.array(data)\n",
    "t0 = time()\n",
    "\n",
    "data1 = []\n",
    "for i in data:\n",
    "    try:\n",
    "        data1.append(i[0])\n",
    "    except Exception:\n",
    "        pass\n",
    "\n",
    "# Use tf (raw term count) features for LDA.\n",
    "print(\"Extracting tf features for LDA...\")\n",
    "tf_vectorizer = CountVectorizer(max_df=0.1, min_df=0,\n",
    "                                max_features=1064,\n",
    "                                stop_words='english')\n",
    "\n",
    "tf = tf_vectorizer.fit_transform(data1)\n",
    "\n",
    "\n",
    "\n",
    "lda = LatentDirichletAllocation(n_topics=8, max_iter=100,\n",
    "                                learning_method='online',\n",
    "                                learning_offset=50.,\n",
    "                                random_state=1)\n",
    "print(\"done in %0.3fs.\" %(time() - t0))\n",
    "\n",
    "t0 = time()\n",
    "lda.fit(tf)\n",
    "print(\"\\nTopics in LDA model:\")\n",
    "tf_feature_names = tf_vectorizer.get_feature_names()\n",
    "print_top_words(lda, tf_feature_names, n_top_words)\n",
    "print(\"done in %0.3fs.\" %(time() - t0))"
   ]
  },
  {
   "cell_type": "code",
   "execution_count": null,
   "metadata": {
    "collapsed": true
   },
   "outputs": [],
   "source": []
  },
  {
   "cell_type": "code",
   "execution_count": null,
   "metadata": {
    "collapsed": true
   },
   "outputs": [],
   "source": []
  }
 ],
 "metadata": {
  "kernelspec": {
   "display_name": "Python 3",
   "language": "python",
   "name": "python3"
  },
  "language_info": {
   "codemirror_mode": {
    "name": "ipython",
    "version": 3
   },
   "file_extension": ".py",
   "mimetype": "text/x-python",
   "name": "python",
   "nbconvert_exporter": "python",
   "pygments_lexer": "ipython3",
   "version": "3.6.1"
  }
 },
 "nbformat": 4,
 "nbformat_minor": 2
}
