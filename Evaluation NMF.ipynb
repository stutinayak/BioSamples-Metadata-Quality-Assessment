{
 "cells": [
  {
   "cell_type": "code",
   "execution_count": 38,
   "metadata": {
    "scrolled": false
   },
   "outputs": [
    {
     "name": "stdout",
     "output_type": "stream",
     "text": [
      "Extracting tf-idf features for NMF...\n",
      "done in 0.003s.\n",
      "Model fitting for NMF...\n",
      "\n",
      "Topics in NMF model:\n",
      "Topic #0: age tissue strain sample human genotype gender drug disease cell\n",
      "Topic #1: cell tissue disease strain sample human genotype gender drug age\n",
      "Topic #2: tissue genotype gender strain sample human drug disease cell age\n",
      "Topic #3: sample disease tissue strain human genotype gender drug cell age\n",
      "Topic #4: strain genotype tissue sample human gender drug disease cell age\n",
      "Topic #5: drug tissue strain sample human genotype gender disease cell age\n",
      "Topic #6: human tissue strain sample genotype gender drug disease cell age\n",
      "Topic #7: disease genotype tissue strain sample human gender drug cell age\n",
      "\n",
      "done in 0.005s.\n"
     ]
    }
   ],
   "source": [
    "get_ipython().magic('matplotlib inline')\n",
    "\n",
    "from __future__ import print_function\n",
    "from time import time\n",
    "import os\n",
    "import logging\n",
    "import csv\n",
    "import numpy as np\n",
    "import pandas as pd\n",
    "\n",
    "from sklearn.feature_extraction.text import TfidfVectorizer, CountVectorizer, TfidfTransformer\n",
    "from sklearn.decomposition import NMF, LatentDirichletAllocation\n",
    "from sklearn.metrics import f1_score\n",
    "\n",
    "import numpy as np\n",
    "\n",
    "n_top_words=15\n",
    "def print_top_words(model, feature_names, n_top_words):\n",
    "    #csv = open('Output.csv', 'w')\n",
    "    for topic_idx, topic in enumerate(model.components_):\n",
    "        message = \"Topic #%d: \" % topic_idx\n",
    "        message += \" \".join([feature_names[i]\n",
    "                             for i in topic.argsort()[:-n_top_words - 1:-1]])\n",
    "                                #csv.write(message)\n",
    "                                \n",
    "        print(message)\n",
    "    print()\n",
    "\n",
    "csv_file_object = open('geo.csv')\n",
    "file = open('Output.csv', \"w\")\n",
    "writer = csv.writer(file) #, delimiter=',', quotechar=\"\", quoting=csv.QUOTE_ALL)\n",
    "\n",
    "for line in csv_file_object.readlines():\n",
    "        writer.writerow(line.split(\" \"))\n",
    "\n",
    "csv_file_object.close()\n",
    "file.close()\n",
    "\n",
    "out = csv.reader(open('Output.csv', 'r'))\n",
    "\n",
    "data = []\n",
    "for row in out:\n",
    "    data.append(row)\n",
    "data = np.array(data)\n",
    "t0 = time()\n",
    "data1 = []\n",
    "for i in data:\n",
    "    try:\n",
    "        data1.append(i[0])\n",
    "    except Exception:\n",
    "        pass\n",
    "\n",
    "\n",
    "print(\"Extracting tf-idf features for NMF...\")\n",
    "transformer = TfidfTransformer(smooth_idf=False)\n",
    "tfidf_vectorizer = TfidfVectorizer(max_df=0.3, min_df=2,\n",
    "                                   max_features=1064,\n",
    "                                   stop_words='english'\n",
    "                                  )\n",
    "\n",
    "\n",
    "tfidf = tfidf_vectorizer.fit_transform(data1)\n",
    "print(\"done in %0.3fs.\" % (time() - t0))\n",
    "\n",
    "t0 = time()\n",
    "print(\"Model fitting for NMF...\")\n",
    "model = NMF(n_components=8, init='random', random_state=0)\n",
    "W = model.fit_transform(tfidf)\n",
    "H = model.components_\n",
    "\n",
    "\n",
    "print(\"\\nTopics in NMF model:\")\n",
    "tfidf_feature_names = tfidf_vectorizer.get_feature_names()\n",
    "print_top_words(model, tfidf_feature_names, n_top_words)\n",
    "print(\"done in %0.3fs.\" % (time() - t0))\n",
    "\n",
    "#f1_score(data, output, average='weighted')"
   ]
  },
  {
   "cell_type": "code",
   "execution_count": null,
   "metadata": {
    "collapsed": true
   },
   "outputs": [],
   "source": []
  }
 ],
 "metadata": {
  "kernelspec": {
   "display_name": "Python 3",
   "language": "python",
   "name": "python3"
  },
  "language_info": {
   "codemirror_mode": {
    "name": "ipython",
    "version": 3
   },
   "file_extension": ".py",
   "mimetype": "text/x-python",
   "name": "python",
   "nbconvert_exporter": "python",
   "pygments_lexer": "ipython3",
   "version": "3.6.1"
  }
 },
 "nbformat": 4,
 "nbformat_minor": 2
}
